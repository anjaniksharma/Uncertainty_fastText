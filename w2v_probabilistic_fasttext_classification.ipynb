{
 "cells": [
  {
   "cell_type": "code",
   "execution_count": 1023,
   "metadata": {
    "ExecuteTime": {
     "end_time": "2018-12-07T20:46:19.545388Z",
     "start_time": "2018-12-07T20:46:19.533434Z"
    }
   },
   "outputs": [],
   "source": [
    "import faiss as fs\n",
    "import numpy as np\n",
    "import fastText as ft\n",
    "from numpy import genfromtxt\n",
    "import pandas as pd\n",
    "import re\n",
    "import csv\n",
    "import itertools\n",
    "from sklearn.model_selection import train_test_split\n",
    "from sklearn.naive_bayes import MultinomialNB\n",
    "from sklearn.linear_model import SGDClassifier\n",
    "from sklearn.decomposition import PCA\n",
    "from sklearn.metrics import classification_report,f1_score\n",
    "from sklearn import svm\n",
    "from scipy import sparse\n",
    "from sklearn import preprocessing\n",
    "from collections import defaultdict, Counter\n",
    "from sklearn.datasets import dump_svmlight_file\n",
    "import codecs\n",
    "from IPython.display import Image\n",
    "import matplotlib.pyplot as plt\n",
    "import matplotlib.patches as mpatches\n",
    "import seaborn as sns\n",
    "import re\n",
    "color = sns.color_palette()\n",
    "\n",
    "%matplotlib inline"
   ]
  },
  {
   "cell_type": "code",
   "execution_count": 1046,
   "metadata": {
    "ExecuteTime": {
     "end_time": "2018-12-07T21:59:20.438593Z",
     "start_time": "2018-12-07T21:59:20.435141Z"
    },
    "collapsed": true
   },
   "outputs": [],
   "source": [
    "ft_model_file ='/temp0/dev/anjani/data/fasttext/training_set_tec_trs04919_trs04969_ft_noclean_ml_13.bin'\n",
    "subcat_file = '/temp0/dev/anjani/data/fasttext/test_set_tec_trs04919_trs04969_ft_noclean_ucase.dat'\n",
    "subcat_file1 = '/temp0/dev/anjani/data/fasttext/test_set_tec_trs04919_trs04969_ft_noclean_ucase.dat1'\n",
    "\n",
    "subcat_train_file = '/temp0/dev/anjani/data/fasttext/training_set_tec_trs04919_trs04969_ft_noclean_ucase.dat'\n",
    "subcat_train_file1 = '/temp0/dev/anjani/data/fasttext/training_set_tec_trs04919_trs04969_ft_noclean_ucase.dat1'"
   ]
  },
  {
   "cell_type": "code",
   "execution_count": 987,
   "metadata": {
    "ExecuteTime": {
     "end_time": "2018-12-06T22:27:58.553961Z",
     "start_time": "2018-12-06T22:27:58.259003Z"
    }
   },
   "outputs": [
    {
     "name": "stderr",
     "output_type": "stream",
     "text": [
      "/opt/python/dev/Anaconda2-5.0.1/lib/python2.7/site-packages/ipykernel_launcher.py:2: ParserWarning: Falling back to the 'python' engine because the 'c' engine does not support regex separators (separators > 1 char and different from '\\s+' are interpreted as regex); you can avoid this warning by specifying engine='python'.\n",
      "  \n"
     ]
    }
   ],
   "source": [
    "nrows = 70000\n",
    "df_tec = pd.read_csv(subcat_file, sep=\"__LABEL__\",names=['desc', 'subcat'],encoding ='utf8',  nrows=nrows)"
   ]
  },
  {
   "cell_type": "code",
   "execution_count": 1031,
   "metadata": {
    "ExecuteTime": {
     "end_time": "2018-12-07T21:08:24.236889Z",
     "start_time": "2018-12-07T21:08:24.233480Z"
    },
    "collapsed": true
   },
   "outputs": [],
   "source": [
    "inf = codecs.open(subcat_file, 'wb',encoding='utf-8')"
   ]
  },
  {
   "cell_type": "code",
   "execution_count": 1049,
   "metadata": {
    "ExecuteTime": {
     "end_time": "2018-12-07T22:04:09.402092Z",
     "start_time": "2018-12-07T22:03:44.261918Z"
    }
   },
   "outputs": [
    {
     "name": "stdout",
     "output_type": "stream",
     "text": [
      "WIRELESS WIRELESS BLUETOOTH åäº ä¸æ ç§æ æ å",
      "\n",
      "WIRELESS WIRELESS BLUETOOTH åäº ä¸æ ç§æ æ å",
      "\n",
      "WIRELESS WIRELESS BLUETOOTH åäº ä¸æ ç§æ æ å",
      "\n",
      "WIRELESS WIRELESS BLUETOOTH åäº ä¸æ ç§æ æ å",
      "\n",
      "WIRELESS WIRELESS ACCESSORIES åäº ä¸æ ç§æ æ å",
      "\n",
      "WIRELESS WIRELESS BLUETOOTH åäº ä¸æ ç§æ æ å",
      "\n",
      "WIRELESS WIRELESS BLUETOOTH åäº ä¸æ ç§æ æ å",
      "\n",
      "WIRELESS WIRELESS BLUETOOTH åäº ä¸æ ç§æ æ å",
      "\n",
      "OFFICE PRODUCTS LANDLINE TELEPHONE ACCESSORIES åäº ä¸æ ç§æ æ å",
      "\n",
      "PC INPUTS åäº ä¸æ ç§æ æ   å",
      "\n",
      "WIRELESS WIRELESS BLUETOOTH åäº ä¸æ ç§æ æ å",
      "\n",
      "WIRELESS WIRELESS BLUETOOTH åäº ä¸æ ç§æ æ å",
      "\n",
      "WIRELESS WIRELESS BLUETOOTH åäº ä¸æ ç§æ æ å",
      "\n",
      "WIRELESS WIRELESS BLUETOOTH åäº ä¸æ ç§æ æ å",
      "\n",
      "WIRELESS WIRELESS BLUETOOTH åäº ä¸æ ç§æ æ å",
      "\n",
      "WIRELESS WIRELESS BLUETOOTH åäº ä¸æ ç§æ æ å",
      "\n",
      "WIRELESS WIRELESS BLUETOOTH åäº ä¸æ ç§æ æ å",
      "\n",
      "ELECTRONICS HEADPHONES åäº ä¸æ ç§æ æ å",
      "\n",
      "WIRELESS WIRELESS ACCESSORIES åäº ä¸æ ç§æ æ å",
      "\n",
      "WIRELESS WIRELESS ACCESSORIES åäº ä¸æ ç§æ æ å",
      "\n",
      "WIRELESS WIRELESS BLUETOOTH åäº ä¸æ ç§æ æ å",
      "\n",
      "WIRELESS WIRELESS ACCESSORIES åäº ä¸æ ç§æ æ å",
      "\n",
      "WIRELESS WIRELESS BLUETOOTH åäº ä¸æ ç§æ æ å",
      "\n",
      "WIRELESS WIRELESS BLUETOOTH åäº ä¸æ ç§æ æ å",
      "\n",
      "ADDITIONAL PRODUCTS ADDITIONAL PRODUCTS MANUFACTURER UNKNOWN MODEL EXRT11 - QTY. 20 (PER EBM)  TOTAL OF 8 EBMâSâ",
      "\n",
      "WIRELESS WIRELESS BLUETOOTH åäº ä¸æ ç§æ æ å",
      "\n",
      "WIRELESS WIRELESS BLUETOOTH åäº ä¸æ ç§æ æ å",
      "\n",
      "WIRELESS WIRELESS BLUETOOTH åäº ä¸æ ç§æ æ å",
      "\n",
      "WIRELESS WIRELESS BLUETOOTH åäº ä¸æ ç§æ æ å",
      "\n",
      "WIRELESS WIRELESS BLUETOOTH åäº ä¸æ ç§æ æ å",
      "\n",
      "WIRELESS WIRELESS BLUETOOTH åäº ä¸æ ç§æ æ å",
      "\n",
      "OFFICE PRODUCTS LANDLINE TELEPHONE ACCESSORIES åäº ä¸æ ç§æ æ å",
      "\n",
      "WIRELESS WIRELESS BLUETOOTH åäº ä¸æ ç§æ æ å",
      "\n",
      "WIRELESS WIRELESS BLUETOOTH åäº ä¸æ ç§æ æ å",
      "\n",
      "WIRELESS WIRELESS BLUETOOTH åäº ä¸æ ç§æ æ å",
      "\n",
      "WIRELESS WIRELESS BLUETOOTH åäº ä¸æ ç§æ æ å",
      "\n",
      "WIRELESS WIRELESS BLUETOOTH åäº ä¸æ ç§æ æ å",
      "\n",
      "WIRELESS WIRELESS BLUETOOTH åäº ä¸æ ç§æ æ å",
      "\n",
      "WIRELESS WIRELESS BLUETOOTH åäº ä¸æ ç§æ æ å",
      "\n",
      "OFFICE PRODUCTS OFFICE ORGANIZATION åäº ä¸æ ç§æ æ   å",
      "\n",
      "WIRELESS WIRELESS BLUETOOTH åäº ä¸æ ç§æ æ å",
      "\n",
      "WIRELESS WIRELESS BLUETOOTH åäº ä¸æ ç§æ æ å",
      "\n",
      "WIRELESS WIRELESS BLUETOOTH åäº ä¸æ ç§æ æ å",
      "\n",
      "WIRELESS WIRELESS ACCESSORIES åäº ä¸æ ç§æ æ å",
      "\n",
      "WIRELESS WIRELESS BLUETOOTH åäº ä¸æ ç§æ æ å",
      "\n",
      "WIRELESS WIRELESS BLUETOOTH åäº ä¸æ ç§æ æ å",
      "\n",
      "WIRELESS WIRELESS BLUETOOTH åäº ä¸æ ç§æ æ å",
      "\n",
      "OFFICE PRODUCTS LANDLINE TELEPHONE ACCESSORIES åäº ä¸æ ç§æ æ å",
      "\n",
      "WIRELESS WIRELESS BLUETOOTH åäº ä¸æ ç§æ æ å",
      "\n",
      "WIRELESS WIRELESS BLUETOOTH åäº ä¸æ ç§æ æ å",
      "\n",
      "WIRELESS WIRELESS ACCESSORIES åäº ä¸æ ç§æ æ å",
      "\n",
      "WIRELESS WIRELESS BLUETOOTH åäº ä¸æ ç§æ æ å",
      "\n",
      "WIRELESS WIRELESS BLUETOOTH åäº ä¸æ ç§æ æ å",
      "\n",
      "WIRELESS WIRELESS BLUETOOTH åäº ä¸æ ç§æ æ å",
      "\n",
      "WIRELESS WIRELESS BLUETOOTH åäº ä¸æ ç§æ æ å",
      "\n",
      "WIRELESS WIRELESS BLUETOOTH åäº ä¸æ ç§æ æ å",
      "\n",
      "OFFICE PRODUCTS CLASSROOM SUPPLIES GHENT 72 ",
      "\n",
      "WIRELESS WIRELESS BLUETOOTH åäº ä¸æ ç§æ æ å",
      "\n",
      "WIRELESS WIRELESS BLUETOOTH åäº ä¸æ ç§æ æ å",
      "\n",
      "WIRELESS WIRELESS ACCESSORIES åäº ä¸æ ç§æ æ å",
      "\n",
      "WIRELESS WIRELESS BLUETOOTH åäº ä¸æ ç§æ æ å",
      "\n",
      "OFFICE PRODUCTS LANDLINE TELEPHONE ACCESSORIES åäº ä¸æ ç§æ æ å",
      "\n",
      "WIRELESS WIRELESS ACCESSORIES åäº ä¸æ ç§æ æ å",
      "\n",
      "OFFICE PRODUCTS LANDLINE TELEPHONE ACCESSORIES åäº ä¸æ ç§æ æ å",
      "\n",
      "WIRELESS WIRELESS ACCESSORIES åäº ä¸æ ç§æ æ å",
      "\n",
      "WIRELESS WIRELESS BLUETOOTH åäº ä¸æ ç§æ æ å",
      "\n",
      "WIRELESS WIRELESS BLUETOOTH åäº ä¸æ ç§æ æ å",
      "\n",
      "WIRELESS WIRELESS BLUETOOTH åäº ä¸æ ç§æ æ å",
      "\n",
      "CAMERA LENSES DJI SERVICE LLC HASSELBLAD 7392544251202 120-120MM F/3.5-32 FIXED PRIME LENS, XCD MACRO æ3.5/120 MM ",
      "\n",
      "OFFICE PRODUCTS LANDLINE TELEPHONE ACCESSORIES åäº ä¸æ ç§æ æ å",
      "\n",
      "WIRELESS WIRELESS BLUETOOTH åäº ä¸æ ç§æ æ å",
      "\n",
      "OFFICE PRODUCTS LANDLINE TELEPHONE ACCESSORIES åäº ä¸æ ç§æ æ å",
      "\n",
      "ELECTRONICS HEADPHONES åäº ä¸æ ç§æ æ å",
      "\n",
      "WIRELESS WIRELESS BLUETOOTH åäº ä¸æ ç§æ æ   å",
      "\n",
      "WIRELESS WIRELESS BLUETOOTH åäº ä¸æ ç§æ æ å",
      "\n",
      "WIRELESS WIRELESS BLUETOOTH åäº ä¸æ ç§æ æ   å",
      "\n",
      "WIRELESS WIRELESS ACCESSORIES åäº ä¸æ ç§æ æ å",
      "\n",
      "WIRELESS WIRELESS BLUETOOTH åäº ä¸æ ç§æ æ å",
      "\n",
      "WIRELESS WIRELESS BLUETOOTH åäº ä¸æ ç§æ æ å",
      "\n",
      "WIRELESS WIRELESS BLUETOOTH åäº ä¸æ ç§æ æ å",
      "\n",
      "WIRELESS WIRELESS BLUETOOTH åäº ä¸æ ç§æ æ å",
      "\n",
      "PC INPUTS åäº ä¸æ ç§æ æ   å",
      "\n",
      "WIRELESS WIRELESS BLUETOOTH åäº ä¸æ ç§æ æ å",
      "\n",
      "WIRELESS WIRELESS BLUETOOTH åäº ä¸æ ç§æ æ å",
      "\n",
      "WIRELESS WIRELESS ACCESSORIES åäº ä¸æ ç§æ æ   å",
      "\n",
      "WIRELESS WIRELESS ACCESSORIES åäº ä¸æ ç§æ æ å",
      "\n",
      "WIRELESS WIRELESS BLUETOOTH åäº ä¸æ ç§æ æ å",
      "\n",
      "WIRELESS WIRELESS BLUETOOTH åäº ä¸æ ç§æ æ å",
      "\n"
     ]
    }
   ],
   "source": [
    "inf = codecs.open(subcat_train_file1, 'wb',encoding='utf-8')\n",
    "with codecs.open(subcat_train_file, 'rb',encoding='utf-8') as f:\n",
    "    for line in f.readlines():\n",
    "        l = line.split(\"__LABEL__\")\n",
    "        try: inf.writelines(cleanup(l[0]) + ' ' + \"__LABEL__\"+l[1])\n",
    "        except: print line\n",
    "        \n",
    "inf.close()   "
   ]
  },
  {
   "cell_type": "code",
   "execution_count": 1002,
   "metadata": {
    "ExecuteTime": {
     "end_time": "2018-12-07T15:21:27.738774Z",
     "start_time": "2018-12-07T15:21:25.367406Z"
    }
   },
   "outputs": [],
   "source": [
    "model = ft.load_model(ft_model_file)"
   ]
  },
  {
   "cell_type": "code",
   "execution_count": 1163,
   "metadata": {
    "ExecuteTime": {
     "end_time": "2018-12-11T15:52:23.681216Z",
     "start_time": "2018-12-11T15:52:23.678143Z"
    }
   },
   "outputs": [
    {
     "data": {
      "text/plain": [
       "fasttext_pybind.args"
      ]
     },
     "execution_count": 1163,
     "metadata": {},
     "output_type": "execute_result"
    }
   ],
   "source": []
  },
  {
   "cell_type": "code",
   "execution_count": 1003,
   "metadata": {
    "ExecuteTime": {
     "end_time": "2018-12-07T15:21:27.751073Z",
     "start_time": "2018-12-07T15:21:27.741137Z"
    }
   },
   "outputs": [],
   "source": [
    "input_dim = model.get_dimension()\n",
    "input_tensor = np.zeros((nrows,input_dim))\n",
    "\n",
    "\n",
    "get_output_matrix = model.get_output_matrix()\n",
    "labels = np.array([int(p.split(\"__\")[2]) for p in model.get_labels()]) \n",
    "\n",
    "true_labels = df_tec.subcat.values"
   ]
  },
  {
   "cell_type": "code",
   "execution_count": 1044,
   "metadata": {
    "ExecuteTime": {
     "end_time": "2018-12-07T21:50:11.608898Z",
     "start_time": "2018-12-07T21:50:11.598165Z"
    }
   },
   "outputs": [],
   "source": [
    "def cleanup(x):\n",
    "    try: x = x.replace(\"’\",\"'\")\n",
    "    except: pass\n",
    "    try: x = x.replace(\"′\",\"'\")\n",
    "    except: pass\n",
    "    x = x.replace(\"''\",\" \")\n",
    "    x = x.replace(\"'\",\" ' \")\n",
    "    #x = x.replace(\"“\",'\"')\n",
    "    #x = x.replace(\"”\",'\"')\n",
    "    x = x.replace('\"',' \" ')\n",
    "    x = x.replace('\\.',' \\. ')\n",
    "    x = x.replace('<br \\','>')\n",
    "    x = x.replace(',',' , ')\n",
    "    x = x.replace('(',' ( ')\n",
    "    x = x.replace(')',' ) ')\n",
    "    x = x.replace('!',' ! ')\n",
    "    x = x.replace('?',' ? ')\n",
    "    x = x.replace(';',' ; ')\n",
    "    x = x.replace(':',' : ')\n",
    "    x = x.replace('-',' - ')\n",
    "    x = x.replace('=',' = ')\n",
    "    x = x.replace('*',' * ')\n",
    "    #x = x.replace('+',' + ')\n",
    "    x = x.replace('|',' ')\n",
    "    #x = x.replace('«',' ')\n",
    "    #x = x.replace('&',' & ')\n",
    "    return re.sub('[0-9]',' ',x)\n",
    "    "
   ]
  },
  {
   "cell_type": "code",
   "execution_count": 1028,
   "metadata": {
    "ExecuteTime": {
     "end_time": "2018-12-07T20:50:06.786987Z",
     "start_time": "2018-12-07T20:50:06.783871Z"
    }
   },
   "outputs": [
    {
     "data": {
      "text/plain": [
       "'CTO S SYSTEMS APPLE COMPUTO - AUDIO MBP  /I / . GHZ/ GB/   GB/INGLES+'"
      ]
     },
     "execution_count": 1028,
     "metadata": {},
     "output_type": "execute_result"
    }
   ],
   "source": [
    "cleanup('CTO S SYSTEMS APPLE COMPUTO-AUDIO MBP13/I5/2.3GHZ/8GB/512GB/INGLES+')"
   ]
  },
  {
   "cell_type": "code",
   "execution_count": 1004,
   "metadata": {
    "ExecuteTime": {
     "end_time": "2018-12-07T15:21:37.687621Z",
     "start_time": "2018-12-07T15:21:30.406640Z"
    }
   },
   "outputs": [],
   "source": [
    "\n",
    "\n",
    "model_pred=[]\n",
    "i=0\n",
    "with codecs.open('/temp0/dev/anjani/data/fasttext/test_set_tec_trs04919_trs04969_ft_noclean_ucase.dat','rb',encoding='utf-8') as f:\n",
    "    for line in f.readlines():\n",
    "        if i < nrows:\n",
    "            inp = line.split(\"__LABEL__\")[0]\n",
    "            input_tensor[i] = model.get_sentence_vector(inp)\n",
    "            model_pred.append(model.predict(inp)[0][0])\n",
    "            i=i+1\n",
    "        \n",
    "model_pred = np.array([int(p.split(\"__\")[2]) for p in model_pred])"
   ]
  },
  {
   "cell_type": "code",
   "execution_count": 1005,
   "metadata": {
    "ExecuteTime": {
     "end_time": "2018-12-07T15:21:37.693920Z",
     "start_time": "2018-12-07T15:21:37.689743Z"
    }
   },
   "outputs": [
    {
     "name": "stdout",
     "output_type": "stream",
     "text": [
      "(70000, 100)\n",
      "(532, 100)\n"
     ]
    }
   ],
   "source": [
    "print input_tensor.shape\n",
    "print get_output_matrix.shape"
   ]
  },
  {
   "cell_type": "code",
   "execution_count": 1006,
   "metadata": {
    "ExecuteTime": {
     "end_time": "2018-12-07T15:21:37.699512Z",
     "start_time": "2018-12-07T15:21:37.695643Z"
    }
   },
   "outputs": [
    {
     "data": {
      "text/plain": [
       "(70000,)"
      ]
     },
     "execution_count": 1006,
     "metadata": {},
     "output_type": "execute_result"
    }
   ],
   "source": [
    "model_pred.shape"
   ]
  },
  {
   "cell_type": "code",
   "execution_count": 924,
   "metadata": {
    "ExecuteTime": {
     "end_time": "2018-12-06T20:24:53.429166Z",
     "start_time": "2018-12-06T20:24:53.267168Z"
    }
   },
   "outputs": [],
   "source": [
    "\n",
    "def uncertain_predict_output(input_tensor, no_of_pred, threshold=2, dropout = 0.9):\n",
    "    result_dict={}\n",
    "    no_of_feature = input_tensor.shape[1]\n",
    "    no_of_sample = input_tensor.shape[0]\n",
    "    no_of_labels = get_output_matrix.shape[0]\n",
    "    \n",
    "   \n",
    "    \n",
    "    l = [list(labels[np.argmax(np.dot(input_tensor,get_output_matrix.T*\\\n",
    "    np.random.binomial(1, dropout, no_of_labels*no_of_feature).reshape((no_of_feature,no_of_labels)).astype(int)),axis =1)])\\\n",
    "        for i in range(no_of_pred)]    \n",
    "    l= np.array([list(Counter(np.argmax(i,axis=1)).most_common(1)[0])+ [cnt] + [true_labels[cnt]] for cnt,i in enumerate(np.array(l).T)])\n",
    "    \n",
    "    \n",
    "    new_tensor_gt_threshold = l[np.where(l[:,1]>threshold)]\n",
    "    if len(new_tensor_gt_threshold)==0:\n",
    "        print \"Threshold %d doesn't yield any prediction\" %threshold\n",
    "        return 0,0\n",
    "    result_dict['coverage'] = float(new_tensor_gt_threshold.shape[0])/float(no_of_sample)\n",
    "    result_dict['accuracy_no_threshold'] = float((np.where(l[:,0]==l[:,3]))[0].shape[0])/float(no_of_sample)\n",
    "    result_dict['accuracy_after_threshold'] = float((np.where(new_tensor_gt_threshold[:,0]==new_tensor_gt_threshold[:,3]))[0].shape[0])\\\n",
    "    /float(new_tensor_gt_threshold.shape[0])\n",
    "    result_dict['accuracy'] = float((np.where(model_pred==l[:,3]))[0].shape[0])/float(no_of_sample)\n",
    "    \n",
    "    return l,result_dict\n",
    "\n",
    "\n",
    "def uncertain_predict_input(input_tensor, no_of_pred, threshold=2, dropout = 0.9):\n",
    "    result_dict={}\n",
    "    no_of_feature = input_tensor.shape[1]\n",
    "    no_of_sample = input_tensor.shape[0]\n",
    "    no_of_labels = get_output_matrix.shape[0]\n",
    "    \n",
    "    l = [list(labels[np.argmax(np.dot(input_tensor* np.random.binomial(1, dropout, no_of_sample*no_of_feature).reshape((no_of_sample,no_of_feature)).astype(int),get_output_matrix.T),axis =1)]) for i in range(no_of_pred)]\n",
    "    #print np.array(l).shape\n",
    "    \n",
    "    l= np.array([list(Counter(i).most_common(1)[0])+ [cnt] + [true_labels[cnt]] for cnt,i in enumerate(np.array(l).T)])\n",
    "    #print np.array(l).shape\n",
    "    \n",
    "    new_tensor_gt_threshold = l[np.where(l[:,1]>threshold)]\n",
    "    if len(new_tensor_gt_threshold)==0:\n",
    "        print \"Threshold %d doesn't yield any prediction\" %threshold\n",
    "        return 0,0\n",
    "    result_dict['coverage'] = float(new_tensor_gt_threshold.shape[0])/float(no_of_sample)\n",
    "    result_dict['accuracy_no_threshold'] = float((np.where(l[:,0]==l[:,3]))[0].shape[0])/float(no_of_sample)\n",
    "    result_dict['accuracy_after_threshold'] = float((np.where(new_tensor_gt_threshold[:,0]==new_tensor_gt_threshold[:,3]))[0].shape[0])\\\n",
    "    /float(new_tensor_gt_threshold.shape[0])\n",
    "    result_dict['accuracy'] = float((np.where(model_pred==l[:,3]))[0].shape[0])/float(no_of_sample)\n",
    "    \n",
    "    return result_dict\n",
    "\n",
    "def uncertain_predict_Inter(input_tensor, no_of_pred, conf_threshold=2, dropout = 0.9):\n",
    "    result_dict={}\n",
    "    no_of_feature = input_tensor.shape[1]\n",
    "    no_of_sample = input_tensor.shape[0]\n",
    "    no_of_labels = get_output_matrix.shape[0]\n",
    "    l = [np.dot(input_tensor,get_output_matrix.T*\\\n",
    "    np.random.binomial(1, dropout, no_of_labels*no_of_feature).reshape((no_of_feature,no_of_labels)).astype(int))\\\n",
    "         for i in range(no_of_pred)]   \n",
    "    pred_determin = np.argmax(np.dot(input_tensor,get_output_matrix.T),axis=1)\n",
    "    l = list(np.transpose(np.array(l),(1,0,2)))\n",
    "    ll= np.array([list(Counter(np.argmax(i,axis=1)).most_common(1)[0])+ [cnt] + [true_labels[cnt]] \\\n",
    "                  + [np.max((np.exp(i)/np.sum(np.exp(i),axis=1)[:,None])[:,pred_determin[cnt]])] \\\n",
    "                 + [np.mean((np.exp(i)/np.sum(np.exp(i),axis=1)[:,None])[:,pred_determin[cnt]])] \\\n",
    "                  + [np.std((np.exp(i)/np.sum(np.exp(i),axis=1)[:,None])[:,pred_determin[cnt]])] \\\n",
    "                                   + [labels[most_common_pred[cnt]]]  for cnt,i in enumerate(l)])\n",
    "    \n",
    "       \n",
    "    return l,ll\n",
    "\n",
    "def uncertain_predict_conf_threshold(input_tensor, no_of_pred, conf_threshold=2, dropout = 0.9):\n",
    "    result_dict={}\n",
    "    no_of_feature = input_tensor.shape[1]\n",
    "    no_of_sample = input_tensor.shape[0]\n",
    "    no_of_labels = get_output_matrix.shape[0]\n",
    "    #l = [np.dot(input_tensor,get_output_matrix.T*\\\n",
    "    #np.random.binomial(1, dropout, no_of_labels*no_of_feature).reshape((no_of_feature,no_of_labels)).astype(int))\\\n",
    "    #     for i in range(no_of_pred)]   \n",
    "    \n",
    "    #l = [np.dot(input_tensor*\\\n",
    "    #np.random.binomial(1, dropout, no_of_sample*no_of_feature).\\\n",
    "    #            reshape((no_of_sample,no_of_feature)).astype(int),get_output_matrix.T)\\\n",
    "    #     for i in range(no_of_pred)]   \n",
    "    \n",
    "    l = [np.dot(input_tensor *\\\n",
    "    np.random.binomial(1, dropout, no_of_sample*no_of_feature).reshape((no_of_sample,no_of_feature)).astype(int),\n",
    "        get_output_matrix.T*\\\n",
    "    np.random.binomial(1, dropout, no_of_labels*no_of_feature).reshape((no_of_feature,no_of_labels)).astype(int))\\\n",
    "         for i in range(no_of_pred)]   \n",
    "    \n",
    "    pred_determin = np.argmax(np.dot(input_tensor,get_output_matrix.T),axis=1)\n",
    "    l = list(np.transpose(np.array(l),(1,0,2)))\n",
    "    l= np.array([[cnt] + [true_labels[cnt]] \\\n",
    "                  + [np.max((np.exp(i)/np.sum(np.exp(i),axis=1)[:,None])[:,pred_determin[cnt]])] \\\n",
    "                 + [np.mean((np.exp(i)/np.sum(np.exp(i),axis=1)[:,None])[:,pred_determin[cnt]])] \\\n",
    "                  + [np.std((np.exp(i)/np.sum(np.exp(i),axis=1)[:,None])[:,pred_determin[cnt]])] \\\n",
    "                                   + [labels[pred_determin[cnt]]]  for cnt,i in enumerate(l)])\n",
    "    \n",
    "    new_tensor_gt_threshold = l[np.where(l[:,3]>conf_threshold)]\n",
    "    if len(new_tensor_gt_threshold)==0:\n",
    "        print \"Conf Threshold %f doesn't yield any prediction\" %conf_threshold\n",
    "        return \n",
    "    result_dict['coverage'] = float(new_tensor_gt_threshold.shape[0])/float(no_of_sample)\n",
    "    result_dict['accuracy_no_threshold'] = float((np.where(l[:,1]==l[:,5]))[0].shape[0])/float(no_of_sample)\n",
    "    result_dict['accuracy_after_threshold'] = float((np.where(new_tensor_gt_threshold[:,1]==new_tensor_gt_threshold[:,5]))[0].shape[0])\\\n",
    "    /float(new_tensor_gt_threshold.shape[0])\n",
    "    #result_dict['accuracy'] = float((np.where(pred_determin==l[:,1]))[0].shape[0])/float(no_of_sample)\n",
    "       \n",
    "    return result_dict\n",
    "\n",
    "def uncertain_predict_full(input_tensor, no_of_pred, dropout = 0.9):\n",
    "    result_dict={}\n",
    "    no_of_feature = input_tensor.shape[1]\n",
    "    no_of_sample = input_tensor.shape[0]\n",
    "    no_of_labels = get_output_matrix.shape[0]\n",
    "    l = [np.dot(input_tensor *\\\n",
    "    np.random.binomial(1, dropout, no_of_sample*no_of_feature).reshape((no_of_sample,no_of_feature)).astype(int),\n",
    "        get_output_matrix.T*\\\n",
    "    np.random.binomial(1, dropout, no_of_labels*no_of_feature).reshape((no_of_feature,no_of_labels)).astype(int))\\\n",
    "         for i in range(no_of_pred)]   \n",
    "    \n",
    "    pred_determin = np.argmax(np.dot(input_tensor,get_output_matrix.T),axis=1)\n",
    "    l = list(np.transpose(np.array(l),(1,0,2)))\n",
    "    l= np.array([[cnt] + [true_labels[cnt]] \\\n",
    "                  + [np.max((np.exp(i)/np.sum(np.exp(i),axis=1)[:,None])[:,pred_determin[cnt]])] \\\n",
    "                 + [np.mean((np.exp(i)/np.sum(np.exp(i),axis=1)[:,None])[:,pred_determin[cnt]])] \\\n",
    "                  + [np.std((np.exp(i)/np.sum(np.exp(i),axis=1)[:,None])[:,pred_determin[cnt]])] \\\n",
    "                                   + [labels[pred_determin[cnt]]]  for cnt,i in enumerate(l)])\n",
    "    return l\n",
    "\n"
   ]
  },
  {
   "cell_type": "code",
   "execution_count": 919,
   "metadata": {
    "ExecuteTime": {
     "end_time": "2018-12-06T17:48:23.582027Z",
     "start_time": "2018-12-06T17:44:04.977043Z"
    }
   },
   "outputs": [
    {
     "name": "stdout",
     "output_type": "stream",
     "text": [
      "{'accuracy_after_threshold': 0.9679974651457541, 'accuracy_no_threshold': 0.8616, 'coverage': 0.6312}\n",
      "{'accuracy_after_threshold': 0.977878985035784, 'accuracy_no_threshold': 0.8616, 'coverage': 0.4611}\n",
      "{'accuracy_after_threshold': 0.9849624060150376, 'accuracy_no_threshold': 0.8616, 'coverage': 0.3192}\n",
      "{'accuracy_after_threshold': 0.9927606177606177, 'accuracy_no_threshold': 0.8616, 'coverage': 0.2072}\n"
     ]
    }
   ],
   "source": [
    "#print uncertain_predict_input(input_tensor=input_tensor,no_of_pred =100,threshold=80, dropout = 0.9)\n",
    "\n",
    "print uncertain_predict_conf_threshold(input_tensor=input_tensor[:10000],no_of_pred =100,conf_threshold=0.98, dropout = 0.95)\n",
    "print uncertain_predict_conf_threshold(input_tensor=input_tensor[:10000],no_of_pred =100,conf_threshold=0.98, dropout = 0.90)\n",
    "print uncertain_predict_conf_threshold(input_tensor=input_tensor[:10000],no_of_pred =100,conf_threshold=0.98, dropout = 0.85)\n",
    "print uncertain_predict_conf_threshold(input_tensor=input_tensor[:10000],no_of_pred =100,conf_threshold=0.98, dropout = 0.80)\n"
   ]
  },
  {
   "cell_type": "code",
   "execution_count": 920,
   "metadata": {
    "ExecuteTime": {
     "end_time": "2018-12-06T17:52:39.638821Z",
     "start_time": "2018-12-06T17:48:23.583607Z"
    }
   },
   "outputs": [
    {
     "name": "stdout",
     "output_type": "stream",
     "text": [
      "{'accuracy_after_threshold': 0.9654808561953573, 'accuracy_no_threshold': 0.8616, 'coverage': 0.6634}\n",
      "{'accuracy_after_threshold': 0.9611914649863955, 'accuracy_no_threshold': 0.8616, 'coverage': 0.6983}\n",
      "{'accuracy_after_threshold': 0.9588607594936709, 'accuracy_no_threshold': 0.8616, 'coverage': 0.7268}\n",
      "{'accuracy_after_threshold': 0.9531662269129287, 'accuracy_no_threshold': 0.8616, 'coverage': 0.758}\n"
     ]
    }
   ],
   "source": [
    "print uncertain_predict_conf_threshold(input_tensor=input_tensor[:10000],no_of_pred =100,conf_threshold=0.97, dropout = 0.95)\n",
    "print uncertain_predict_conf_threshold(input_tensor=input_tensor[:10000],no_of_pred =100,conf_threshold=0.95, dropout = 0.95)\n",
    "print uncertain_predict_conf_threshold(input_tensor=input_tensor[:10000],no_of_pred =100,conf_threshold=0.93, dropout = 0.95)\n",
    "print uncertain_predict_conf_threshold(input_tensor=input_tensor[:10000],no_of_pred =100,conf_threshold=0.90, dropout = 0.95)"
   ]
  },
  {
   "cell_type": "code",
   "execution_count": 1255,
   "metadata": {
    "ExecuteTime": {
     "end_time": "2018-12-12T19:42:55.098922Z",
     "start_time": "2018-12-12T19:30:45.760707Z"
    }
   },
   "outputs": [],
   "source": [
    "l = uncertain_predict_full(input_tensor=input_tensor[:70000],no_of_pred =100,dropout = 0.95)"
   ]
  },
  {
   "cell_type": "code",
   "execution_count": 1256,
   "metadata": {
    "ExecuteTime": {
     "end_time": "2018-12-12T19:57:27.363833Z",
     "start_time": "2018-12-12T19:57:27.348661Z"
    }
   },
   "outputs": [
    {
     "name": "stdout",
     "output_type": "stream",
     "text": [
      "             precision    recall  f1-score   support\n",
      "\n",
      "      11233   0.000000  0.000000  0.000000         0\n",
      "      36944   0.000000  0.000000  0.000000         1\n",
      "      36947   0.000000  0.000000  0.000000         1\n",
      "      36948   0.000000  0.000000  0.000000         0\n",
      "      36949   0.000000  0.000000  0.000000         8\n",
      "      36951   1.000000  0.500000  0.666667         2\n",
      "      36952   0.000000  0.000000  0.000000         1\n",
      "      36957   0.000000  0.000000  0.000000         2\n",
      "      36959   0.000000  0.000000  0.000000         0\n",
      "      36963   0.000000  0.000000  0.000000         5\n",
      "      36964   0.000000  0.000000  0.000000         1\n",
      "      36969   0.500000  0.222222  0.307692         9\n",
      "      36974   0.000000  0.000000  0.000000         2\n",
      "      36975   0.000000  0.000000  0.000000         3\n",
      "      36976   0.000000  0.000000  0.000000         1\n",
      "      36979   0.500000  1.000000  0.666667         1\n",
      "      36982   0.000000  0.000000  0.000000         3\n",
      "      36983   0.000000  0.000000  0.000000         2\n",
      "      36984   0.000000  0.000000  0.000000         3\n",
      "      36985   0.333333  0.142857  0.200000         7\n",
      "      36987   0.000000  0.000000  0.000000         1\n",
      "      36988   0.500000  0.250000  0.333333         4\n",
      "      36989   0.000000  0.000000  0.000000         2\n",
      "      36991   1.000000  0.500000  0.666667         2\n",
      "      36992   0.000000  0.000000  0.000000         1\n",
      "      36993   0.000000  0.000000  0.000000         0\n",
      "      36994   0.000000  0.000000  0.000000         3\n",
      "      36995   0.000000  0.000000  0.000000         0\n",
      "      36996   0.000000  0.000000  0.000000         2\n",
      "      36997   0.000000  0.000000  0.000000         0\n",
      "      36998   0.000000  0.000000  0.000000         1\n",
      "      36999   0.000000  0.000000  0.000000         1\n",
      "      37000   0.000000  0.000000  0.000000         1\n",
      "      37001   0.000000  0.000000  0.000000         0\n",
      "      37003   0.000000  0.000000  0.000000         0\n",
      "      37006   0.000000  0.000000  0.000000         3\n",
      "      37007   0.000000  0.000000  0.000000         2\n",
      "      37008   0.166667  0.333333  0.222222         3\n",
      "      60620   0.000000  0.000000  0.000000        14\n",
      "      60621   0.103448  0.428571  0.166667         7\n",
      "      60622   0.000000  0.000000  0.000000         4\n",
      "      60623   1.000000  1.000000  1.000000         1\n",
      "      60628   0.000000  0.000000  0.000000         0\n",
      "      60629   0.000000  0.000000  0.000000         0\n",
      "      60631   0.750000  0.333333  0.461538         9\n",
      "      60635   0.000000  0.000000  0.000000         0\n",
      "      60636   0.000000  0.000000  0.000000         3\n",
      "      60637   0.000000  0.000000  0.000000         6\n",
      "      60638   0.000000  0.000000  0.000000         3\n",
      "      60639   0.000000  0.000000  0.000000         0\n",
      "      60640   1.000000  0.222222  0.363636         9\n",
      "      60641   0.000000  0.000000  0.000000         1\n",
      "      60644   0.500000  0.142857  0.222222         7\n",
      "      60650   0.000000  0.000000  0.000000         1\n",
      "      60659   0.000000  0.000000  0.000000         1\n",
      "      60660   0.000000  0.000000  0.000000         2\n",
      "      60662   0.000000  0.000000  0.000000         0\n",
      "      60664   0.000000  0.000000  0.000000         2\n",
      "      60665   0.000000  0.000000  0.000000         3\n",
      "      60666   0.000000  0.000000  0.000000         0\n",
      "      60670   0.000000  0.000000  0.000000         2\n",
      "      60672   0.000000  0.000000  0.000000         1\n",
      "      60673   0.000000  0.000000  0.000000         1\n",
      "      60674   0.500000  0.500000  0.500000         2\n",
      "      60675   0.000000  0.000000  0.000000         1\n",
      "      60676   0.000000  0.000000  0.000000         0\n",
      "      60679   0.000000  0.000000  0.000000         1\n",
      "      60699   0.000000  0.000000  0.000000         3\n",
      "      60702   0.000000  0.000000  0.000000         1\n",
      "      60703   0.000000  0.000000  0.000000         1\n",
      "      60704   0.000000  0.000000  0.000000         3\n",
      "      60705   0.000000  0.000000  0.000000         1\n",
      "      60706   0.000000  0.000000  0.000000         0\n",
      "      60707   0.000000  0.000000  0.000000         1\n",
      "      60717   0.000000  0.000000  0.000000         1\n",
      "      60718   0.000000  0.000000  0.000000         0\n",
      "      60721   0.000000  0.000000  0.000000         0\n",
      "      60722   0.000000  0.000000  0.000000         0\n",
      "      60723   0.000000  0.000000  0.000000         0\n",
      "      60725   0.000000  0.000000  0.000000         1\n",
      "      60728   1.000000  1.000000  1.000000         2\n",
      "      60733   0.000000  0.000000  0.000000         0\n",
      "      60735   0.000000  0.000000  0.000000         2\n",
      "      60739   0.000000  0.000000  0.000000         3\n",
      "      60743   0.000000  0.000000  0.000000         2\n",
      "      60747   0.000000  0.000000  0.000000         0\n",
      "      60748   0.000000  0.000000  0.000000         0\n",
      "      60751   0.000000  0.000000  0.000000         0\n",
      "      60752   0.000000  0.000000  0.000000         0\n",
      "      60753   0.000000  0.000000  0.000000         0\n",
      "      60754   0.000000  0.000000  0.000000         0\n",
      "      60755   0.000000  0.000000  0.000000         0\n",
      "      60756   0.000000  0.000000  0.000000         0\n",
      "      60757   0.000000  0.000000  0.000000         4\n",
      "      60758   0.000000  0.000000  0.000000         0\n",
      "      60760   0.500000  0.090909  0.153846        11\n",
      "      60761   0.000000  0.000000  0.000000         1\n",
      "      60762   0.000000  0.000000  0.000000         7\n",
      "      60764   0.000000  0.000000  0.000000         0\n",
      "      60765   0.000000  0.000000  0.000000         0\n",
      "      60767   0.000000  0.000000  0.000000         0\n",
      "      60773   0.000000  0.000000  0.000000         0\n",
      "      60774   0.000000  0.000000  0.000000         0\n",
      "      60775   0.000000  0.000000  0.000000         0\n",
      "      60780   0.000000  0.000000  0.000000         3\n",
      "      60782   0.000000  0.000000  0.000000         2\n",
      "      60783   0.000000  0.000000  0.000000         0\n",
      "      60784   0.333333  1.000000  0.500000         1\n",
      "      60785   0.000000  0.000000  0.000000         2\n",
      "      60787   0.000000  0.000000  0.000000         1\n",
      "      60788   0.000000  0.000000  0.000000         0\n",
      "      60789   0.000000  0.000000  0.000000         0\n",
      "      60790   0.000000  0.000000  0.000000         0\n",
      "      60792   0.000000  0.000000  0.000000         1\n",
      "      60794   0.000000  0.000000  0.000000         0\n",
      "      60795   0.000000  0.000000  0.000000         0\n",
      "     100769   0.000000  0.000000  0.000000         0\n",
      "     104656   0.000000  0.000000  0.000000         0\n",
      "     110057   0.000000  0.000000  0.000000         3\n",
      "     110058   0.166667  0.500000  0.250000         2\n",
      "     110059   0.000000  0.000000  0.000000         7\n",
      "     110061   0.111111  1.000000  0.200000         3\n",
      "     110062   0.000000  0.000000  0.000000         1\n",
      "     110063   0.000000  0.000000  0.000000         1\n",
      "     110064   0.000000  0.000000  0.000000         5\n",
      "     110065   1.000000  0.200000  0.333333         5\n",
      "     110066   0.000000  0.000000  0.000000         1\n",
      "     110067   0.200000  0.055556  0.086957        18\n",
      "     110069   0.000000  0.000000  0.000000         1\n",
      "     110070   0.250000  0.200000  0.222222         5\n",
      "     110072   0.000000  0.000000  0.000000         2\n",
      "     110073   1.000000  0.333333  0.500000         3\n",
      "     110074   0.000000  0.000000  0.000000         1\n",
      "     110075   0.000000  0.000000  0.000000         0\n",
      "     110076   0.000000  0.000000  0.000000         0\n",
      "     110077   0.000000  0.000000  0.000000         1\n",
      "     110080   0.000000  0.000000  0.000000         0\n",
      "     110081   0.333333  0.200000  0.250000         5\n",
      "     110082   0.000000  0.000000  0.000000         1\n",
      "     110084   0.000000  0.000000  0.000000         0\n",
      "     111095   0.000000  0.000000  0.000000         0\n",
      "     111096   0.000000  0.000000  0.000000         0\n",
      "     111097   0.000000  0.000000  0.000000         4\n",
      "     111098   0.000000  0.000000  0.000000         0\n",
      "     112743   0.000000  0.000000  0.000000         1\n",
      "    1500223   0.000000  0.000000  0.000000         0\n",
      "    1501213   0.000000  0.000000  0.000000         6\n",
      "    1501633   0.181818  0.500000  0.266667         4\n",
      "    1502648   1.000000  0.666667  0.800000         3\n",
      "    1502649   0.500000  0.166667  0.250000         6\n",
      "    1502650   0.400000  0.500000  0.444444         4\n",
      "    1503608   0.000000  0.000000  0.000000         3\n",
      "    1503609   0.666667  0.666667  0.666667         3\n",
      "    1504122   0.000000  0.000000  0.000000         5\n",
      "    1504662   0.000000  0.000000  0.000000         6\n",
      "    1504925   0.000000  0.000000  0.000000         2\n",
      "    1508996   1.000000  0.800000  0.888889         5\n",
      "    1508998   0.000000  0.000000  0.000000         0\n",
      "    1509005   0.500000  0.333333  0.400000         3\n",
      "    1509006   0.000000  0.000000  0.000000         2\n",
      "    1509007   0.500000  0.400000  0.444444         5\n",
      "    1509008   0.000000  0.000000  0.000000         1\n",
      "    1509009   0.000000  0.000000  0.000000         0\n",
      "    1509012   0.000000  0.000000  0.000000         1\n",
      "    1509014   0.000000  0.000000  0.000000         0\n",
      "    1509016   0.000000  0.000000  0.000000         0\n",
      "    1509018   0.000000  0.000000  0.000000         1\n",
      "    1509021   1.000000  0.333333  0.500000         3\n",
      "    1509026   0.016667  0.333333  0.031746         3\n",
      "    1509027   0.250000  0.333333  0.285714         3\n",
      "    1509028   0.000000  0.000000  0.000000         1\n",
      "    1509029   0.000000  0.000000  0.000000         2\n",
      "    1509030   0.000000  0.000000  0.000000         2\n",
      "    1509032   0.000000  0.000000  0.000000         1\n",
      "    1509034   0.000000  0.000000  0.000000         3\n",
      "    1509035   0.333333  0.125000  0.181818         8\n",
      "    1509036   0.500000  1.000000  0.666667         2\n",
      "    1509037   0.000000  0.000000  0.000000         3\n",
      "    1509038   0.000000  0.000000  0.000000         1\n",
      "    1509039   0.000000  0.000000  0.000000         1\n",
      "    1509041   0.000000  0.000000  0.000000         3\n",
      "    1509042   0.000000  0.000000  0.000000         3\n",
      "    1509049   1.000000  0.500000  0.666667         2\n",
      "    1509050   0.000000  0.000000  0.000000         5\n",
      "    1509051   0.000000  0.000000  0.000000         2\n",
      "    1509052   0.000000  0.000000  0.000000         0\n",
      "    1509053   0.666667  0.666667  0.666667         3\n",
      "    1509054   0.000000  0.000000  0.000000         0\n",
      "    1509056   0.166667  1.000000  0.285714         1\n",
      "    1509061   0.000000  0.000000  0.000000         1\n",
      "    1509063   0.000000  0.000000  0.000000         1\n",
      "    1509065   0.000000  0.000000  0.000000         2\n",
      "    1509068   0.000000  0.000000  0.000000         4\n",
      "    1509069   0.000000  0.000000  0.000000         6\n",
      "    1509071   0.666667  0.125000  0.210526        16\n",
      "    1509073   0.000000  0.000000  0.000000         3\n",
      "    1509074   0.000000  0.000000  0.000000         2\n",
      "    1509075   0.166667  0.125000  0.142857         8\n",
      "    1509076   0.000000  0.000000  0.000000         2\n",
      "    1509077   0.000000  0.000000  0.000000         1\n",
      "    1509079   0.000000  0.000000  0.000000         0\n",
      "    1509080   0.750000  0.545455  0.631579        11\n",
      "    1509081   0.000000  0.000000  0.000000         1\n",
      "    1509084   0.166667  0.083333  0.111111        12\n",
      "    1509090   0.000000  0.000000  0.000000         1\n",
      "    1509091   0.000000  0.000000  0.000000         1\n",
      "    1509093   0.333333  0.333333  0.333333         3\n",
      "    1509094   0.000000  0.000000  0.000000         2\n",
      "    1509095   0.000000  0.000000  0.000000         2\n",
      "    1509096   0.000000  0.000000  0.000000         3\n",
      "    1509097   0.000000  0.000000  0.000000         4\n",
      "    1509098   0.000000  0.000000  0.000000         1\n",
      "    1509099   0.000000  0.000000  0.000000         5\n",
      "    1509100   0.000000  0.000000  0.000000         1\n",
      "    1509101   0.000000  0.000000  0.000000         3\n",
      "    1509103   0.000000  0.000000  0.000000         0\n",
      "    1509105   0.666667  0.333333  0.444444         6\n",
      "    1509106   0.000000  0.000000  0.000000         2\n",
      "    1509108   0.000000  0.000000  0.000000         2\n",
      "    1509109   0.000000  0.000000  0.000000         0\n",
      "    1509110   0.000000  0.000000  0.000000         0\n",
      "    1509111   0.000000  0.000000  0.000000         0\n",
      "    1509112   0.000000  0.000000  0.000000         0\n",
      "    1509113   0.000000  0.000000  0.000000         0\n",
      "    1509114   0.000000  0.000000  0.000000         1\n",
      "    1509115   0.500000  0.111111  0.181818         9\n",
      "    1509116   0.000000  0.000000  0.000000         1\n",
      "    1509117   0.000000  0.000000  0.000000         3\n",
      "    1509119   0.000000  0.000000  0.000000         2\n",
      "    1509121   0.000000  0.000000  0.000000         2\n",
      "    1509122   0.000000  0.000000  0.000000         1\n",
      "    1509123   0.000000  0.000000  0.000000         1\n",
      "    1509124   0.100000  0.428571  0.162162        14\n",
      "    1509146   0.000000  0.000000  0.000000         7\n",
      "    1509148   0.200000  0.250000  0.222222         4\n",
      "    1509149   0.000000  0.000000  0.000000         0\n",
      "    1509151   0.000000  0.000000  0.000000         0\n",
      "    1509152   0.000000  0.000000  0.000000         0\n",
      "    1509154   0.500000  0.333333  0.400000         3\n",
      "    1509155   0.333333  0.250000  0.285714         4\n",
      "    1509156   0.000000  0.000000  0.000000         0\n",
      "    1509158   0.333333  0.333333  0.333333         3\n",
      "    1510512   0.000000  0.000000  0.000000         8\n",
      "    1510646   0.500000  0.333333  0.400000         3\n",
      "    1511024   0.000000  0.000000  0.000000        14\n",
      "    1511378   0.000000  0.000000  0.000000         1\n",
      "    1511381   0.000000  0.000000  0.000000         1\n",
      "    1511430   0.000000  0.000000  0.000000         0\n",
      "    1511431   0.000000  0.000000  0.000000         0\n",
      "    1511610   0.000000  0.000000  0.000000         0\n",
      "    1512244   0.000000  0.000000  0.000000         1\n",
      "    1513579   0.000000  0.000000  0.000000         1\n",
      "    1517272   0.000000  0.000000  0.000000         0\n",
      "    1517646   0.000000  0.000000  0.000000         0\n",
      "    1517799   0.000000  0.000000  0.000000         0\n",
      "    1518071   0.000000  0.000000  0.000000         2\n",
      "    1518072   0.000000  0.000000  0.000000         2\n",
      "    1518728   0.000000  0.000000  0.000000         1\n",
      "    1519782   0.125000  0.100000  0.111111        10\n",
      "    1520497   1.000000  1.000000  1.000000         1\n",
      "    1520521   0.500000  0.142857  0.222222         7\n",
      "    1521477   0.411765  0.152174  0.222222        46\n",
      "    1521478   0.000000  0.000000  0.000000         8\n",
      "    1523190   0.000000  0.000000  0.000000         0\n",
      "    1523191   0.000000  0.000000  0.000000         4\n",
      "    1523192   0.600000  0.600000  0.600000         5\n",
      "    1523194   0.000000  0.000000  0.000000         1\n",
      "    1523393   0.500000  0.333333  0.400000         3\n",
      "    1523811   0.000000  0.000000  0.000000         0\n",
      "    1523812   0.000000  0.000000  0.000000         0\n",
      "    1523968   0.000000  0.000000  0.000000         1\n",
      "    1523976   0.000000  0.000000  0.000000         0\n",
      "    1523978   0.000000  0.000000  0.000000         2\n",
      "    1523988   0.000000  0.000000  0.000000         0\n",
      "    1524845   0.000000  0.000000  0.000000         0\n",
      "    1524952   0.000000  0.000000  0.000000         4\n",
      "    1541125   0.000000  0.000000  0.000000         3\n",
      "    1541878   0.000000  0.000000  0.000000         6\n",
      "    1541879   0.600000  0.125000  0.206897        24\n",
      "    1541880   0.000000  0.000000  0.000000         2\n",
      "    1541881   1.000000  0.200000  0.333333         5\n",
      "    1541882   0.000000  0.000000  0.000000         4\n",
      "    1542400   0.000000  0.000000  0.000000         2\n",
      "    1542823   0.000000  0.000000  0.000000         1\n",
      "    1543216   0.500000  0.125000  0.200000         8\n",
      "    1543217   0.000000  0.000000  0.000000         4\n",
      "    1555744   0.000000  0.000000  0.000000         3\n",
      "    1555745   0.000000  0.000000  0.000000         0\n",
      "    1555746   0.000000  0.000000  0.000000         0\n",
      "    1555747   1.000000  0.200000  0.333333         5\n",
      "    1555805   1.000000  0.333333  0.500000         3\n",
      "    1556045   0.000000  0.000000  0.000000         0\n",
      "    1556047   0.000000  0.000000  0.000000         1\n",
      "    1557829   0.000000  0.000000  0.000000         0\n",
      "    1557830   0.000000  0.000000  0.000000         3\n",
      "    1557831   0.000000  0.000000  0.000000         0\n",
      "    1557832   0.333333  0.333333  0.333333         3\n",
      "    1558410   0.000000  0.000000  0.000000         1\n",
      "    1558412   0.000000  0.000000  0.000000         2\n",
      "    1558414   0.000000  0.000000  0.000000         0\n",
      "    1558415   0.000000  0.000000  0.000000         6\n",
      "    1558423   0.000000  0.000000  0.000000         0\n",
      "    1562678   0.500000  0.142857  0.222222        14\n",
      "    1564635   0.000000  0.000000  0.000000         1\n",
      "    1564637   0.000000  0.000000  0.000000         3\n",
      "    1564642   0.000000  0.000000  0.000000         1\n",
      "    1564644   0.000000  0.000000  0.000000         2\n",
      "    1564645   0.000000  0.000000  0.000000         1\n",
      "    1564646   0.000000  0.000000  0.000000         1\n",
      "    1564648   0.000000  0.000000  0.000000         2\n",
      "    1564649   0.000000  0.000000  0.000000         0\n",
      "    1564650   0.000000  0.000000  0.000000         1\n",
      "    1564651   0.000000  0.000000  0.000000         1\n",
      "    1565358   0.000000  0.000000  0.000000         0\n",
      "    1565359   0.000000  0.000000  0.000000         1\n",
      "    1565360   0.000000  0.000000  0.000000         1\n",
      "    1565362   0.000000  0.000000  0.000000         9\n",
      "    1565364   0.000000  0.000000  0.000000         1\n",
      "    1566114   0.000000  0.000000  0.000000         0\n",
      "    1566209   0.000000  0.000000  0.000000         3\n",
      "    1566333   1.000000  0.200000  0.333333         5\n",
      "    1566334   0.000000  0.000000  0.000000         0\n",
      "    1566335   0.000000  0.000000  0.000000         0\n",
      "    1566337   0.000000  0.000000  0.000000         0\n",
      "    1566339   0.000000  0.000000  0.000000         2\n",
      "    1566340   0.000000  0.000000  0.000000         1\n",
      "    1567126   0.000000  0.000000  0.000000         2\n",
      "    1567155   0.500000  0.076923  0.133333        13\n",
      "    1567156   0.000000  0.000000  0.000000         0\n",
      "    1569404   0.000000  0.000000  0.000000         1\n",
      "    1569406   0.000000  0.000000  0.000000         0\n",
      "    1569407   0.083333  0.500000  0.142857         2\n",
      "    1569408   0.500000  0.062500  0.111111        16\n",
      "    1569409   0.333333  0.250000  0.285714         4\n",
      "    1569410   0.000000  0.000000  0.000000         0\n",
      "    1569425   0.000000  0.000000  0.000000         0\n",
      "    1576177   0.000000  0.000000  0.000000         0\n",
      "    1577347   0.000000  0.000000  0.000000         5\n",
      "    1577348   0.666667  0.250000  0.363636         8\n",
      "    1577349   0.000000  0.000000  0.000000         1\n",
      "    1577353   0.000000  0.000000  0.000000         1\n",
      "    1577354   1.000000  1.000000  1.000000         1\n",
      "    1577356   1.000000  0.333333  0.500000         3\n",
      "    1577357   1.000000  0.200000  0.333333         5\n",
      "    1577358   0.269231  0.538462  0.358974        13\n",
      "    1577359   0.000000  0.000000  0.000000         0\n",
      "    1577360   0.166667  0.333333  0.222222         3\n",
      "    1588702   0.000000  0.000000  0.000000         0\n",
      "    1588712   0.000000  0.000000  0.000000         0\n",
      "    1588740   0.000000  0.000000  0.000000         1\n",
      "    1589124   0.000000  0.000000  0.000000         0\n",
      "    1590380   0.000000  0.000000  0.000000         0\n",
      "    1590504   0.000000  0.000000  0.000000         2\n",
      "    1590902   0.000000  0.000000  0.000000         0\n",
      "    1590903   0.000000  0.000000  0.000000         1\n",
      "    1591937   0.000000  0.000000  0.000000         1\n",
      "    1592065   0.000000  0.000000  0.000000         0\n",
      "    1596992   0.000000  0.000000  0.000000         6\n",
      "    1596993   0.000000  0.000000  0.000000         0\n",
      "    1598298   0.000000  0.000000  0.000000         2\n",
      "    1598299   0.000000  0.000000  0.000000         1\n",
      "    1599232   0.000000  0.000000  0.000000         2\n",
      "    1599620   0.000000  0.000000  0.000000         0\n",
      "    2000663   0.000000  0.000000  0.000000         1\n",
      "    2000664   0.000000  0.000000  0.000000         3\n",
      "    2001969   0.000000  0.000000  0.000000         1\n",
      "    2002395   0.000000  0.000000  0.000000         1\n",
      "    2002396   0.000000  0.000000  0.000000         0\n",
      "    2002501   0.500000  0.500000  0.500000         4\n",
      "    2011223   0.000000  0.000000  0.000000         0\n",
      "    2011826   0.000000  0.000000  0.000000         0\n",
      "    2015752   0.333333  0.333333  0.333333         6\n",
      "    2015757   1.000000  0.500000  0.666667         4\n",
      "    2015758   0.200000  0.333333  0.250000         3\n",
      "    2015759   1.000000  0.100000  0.181818        10\n",
      "    2015760   0.000000  0.000000  0.000000         2\n",
      "    2015761   0.000000  0.000000  0.000000         1\n",
      "    2015763   1.000000  0.125000  0.222222         8\n",
      "    2015765   0.333333  0.142857  0.200000         7\n",
      "    2015766   0.666667  0.500000  0.571429         4\n",
      "    2015768   0.000000  0.000000  0.000000         1\n",
      "    2015769   0.133333  0.111111  0.121212        18\n",
      "    2015771   0.000000  0.000000  0.000000         4\n",
      "    2015773   0.200000  0.111111  0.142857         9\n",
      "    2015774   0.000000  0.000000  0.000000         1\n",
      "    2123740   0.000000  0.000000  0.000000         0\n",
      "    2123902   0.000000  0.000000  0.000000         0\n",
      "\n",
      "avg / total   0.272793  0.140000  0.156084      1000\n",
      "\n"
     ]
    }
   ],
   "source": [
    "print classification_report(true_labels[most_var[:1000]],model_pred[most_var[:1000]], digits=6)"
   ]
  },
  {
   "cell_type": "code",
   "execution_count": 1272,
   "metadata": {
    "ExecuteTime": {
     "end_time": "2018-12-12T20:02:03.147092Z",
     "start_time": "2018-12-12T20:02:03.143052Z"
    }
   },
   "outputs": [],
   "source": [
    "uncertainty_new = l[:,3]"
   ]
  },
  {
   "cell_type": "code",
   "execution_count": 1253,
   "metadata": {
    "ExecuteTime": {
     "end_time": "2018-12-11T22:41:21.706965Z",
     "start_time": "2018-12-11T22:41:21.490262Z"
    }
   },
   "outputs": [],
   "source": [
    "#df_tec.iloc[most_var[69700:]]\n",
    "#df_tec.iloc[most_var[69900:]]\n",
    "#df_tec['mean_conf'] = l[:,3]\n",
    "#df_tec['pred'] = model_pred\n",
    "#df_tec['desc1'] = df_tec['desc'].apply(lambda x: x.replace(\",\",\"\"))\n",
    "df_tec.to_csv('/temp0/dev/anjani/data/fasttext/test_set_tec_trs04919_trs04969_pred_with_mean_conf.csv',sep=\"|\",index=False,header=False, columns=['desc1','subcat','pred','mean_conf'] )"
   ]
  },
  {
   "cell_type": "code",
   "execution_count": 1161,
   "metadata": {
    "ExecuteTime": {
     "end_time": "2018-12-10T22:28:03.020287Z",
     "start_time": "2018-12-10T22:28:03.016790Z"
    }
   },
   "outputs": [
    {
     "data": {
      "text/plain": [
       "'OFFICE SUPPLIES AND STAMPS DOT COM - DSV ESSENDANT POSTIT25X30QUADPAD2*CT CT '"
      ]
     },
     "execution_count": 1161,
     "metadata": {},
     "output_type": "execute_result"
    }
   ],
   "source": [
    "df_tec.iloc[54842].desc"
   ]
  },
  {
   "cell_type": "code",
   "execution_count": 1276,
   "metadata": {
    "ExecuteTime": {
     "end_time": "2018-12-12T20:02:24.568760Z",
     "start_time": "2018-12-12T20:02:23.382795Z"
    }
   },
   "outputs": [],
   "source": [
    "total_rec_cnt = uncertainty_new.shape[0]\n",
    "most_var = np.argsort(uncertainty_new)\n",
    "fc=[f1_score(true_labels[most_var[i:]],model_pred[most_var[i:]], average='weighted') for i in range(0,total_rec_cnt,1000)]  #\n",
    "mean_var=[np.mean(uncertainty_new[i:]) for i in range(0,total_rec_cnt,1000)]"
   ]
  },
  {
   "cell_type": "code",
   "execution_count": 1280,
   "metadata": {
    "ExecuteTime": {
     "end_time": "2018-12-12T20:32:10.858742Z",
     "start_time": "2018-12-12T20:32:10.855972Z"
    }
   },
   "outputs": [],
   "source": [
    "#mean_var"
   ]
  },
  {
   "cell_type": "code",
   "execution_count": 1277,
   "metadata": {
    "ExecuteTime": {
     "end_time": "2018-12-12T20:02:24.576905Z",
     "start_time": "2018-12-12T20:02:24.571157Z"
    },
    "collapsed": true
   },
   "outputs": [],
   "source": [
    "fc_size = zip([round(float(i)/float(total_rec_cnt)*100,2) for i  in range(total_rec_cnt,0,-1000)],fc)\n",
    "\n",
    "pd_fc_size = pd.DataFrame({\"Pct_Rec\":[float(i)/float(total_rec_cnt) for i  in range(total_rec_cnt,0,-1000)],\"Score\":fc})"
   ]
  },
  {
   "cell_type": "code",
   "execution_count": 1278,
   "metadata": {
    "ExecuteTime": {
     "end_time": "2018-12-12T20:02:24.786696Z",
     "start_time": "2018-12-12T20:02:24.578902Z"
    }
   },
   "outputs": [
    {
     "data": {
      "text/plain": [
       "[<matplotlib.lines.Line2D at 0x2b8f8de60810>]"
      ]
     },
     "execution_count": 1278,
     "metadata": {},
     "output_type": "execute_result"
    },
    {
     "data": {
      "image/png": "[encoded data removed]",
      "text/plain": [
       "<matplotlib.figure.Figure at 0x2b8f8de48dd0>"
      ]
     },
     "metadata": {},
     "output_type": "display_data"
    }
   ],
   "source": [
    "plt.figure(figsize=(10,10))\n",
    "plt.xlabel(\"(%) of test data - Sorted by most to least certain prediction\", size=23)\n",
    "plt.ylabel(\"f1 Score\", size=23)\n",
    "plt.title(\"F1 score increases rapidly after dropping uncertain prediction\\n\", size=20)\n",
    "plt.grid(True)\n",
    "plt.plot([round(float(i)/float(total_rec_cnt)*100,2) for i  in range(total_rec_cnt,0,-1000)], fc)\n",
    "#plt.plot([round(float(i)/float(total_rec_cnt)*100,2) for i  in range(total_rec_cnt,0,-1000)],[0.97 for i  in range(total_rec_cnt,0,-1000)])\n"
   ]
  },
  {
   "cell_type": "code",
   "execution_count": 1267,
   "metadata": {
    "ExecuteTime": {
     "end_time": "2018-12-12T19:59:12.315683Z",
     "start_time": "2018-12-12T19:59:12.228780Z"
    }
   },
   "outputs": [],
   "source": [
    "fc_bin=[f1_score(true_labels[most_var[i:i+1000]],model_pred[most_var[i:i+1000]], average='weighted') for i in range(0,total_rec_cnt,1000)]  #\n",
    "mean_var_bin=[np.mean(uncertainty_new[i:i+1000]) for i in range(0,total_rec_cnt,1000)]"
   ]
  },
  {
   "cell_type": "code",
   "execution_count": 1268,
   "metadata": {
    "ExecuteTime": {
     "end_time": "2018-12-12T19:59:13.901562Z",
     "start_time": "2018-12-12T19:59:13.076686Z"
    }
   },
   "outputs": [
    {
     "data": {
      "image/png": "[encoded data removed]",
      "text/plain": [
       "<matplotlib.figure.Figure at 0x2b9091169a50>"
      ]
     },
     "metadata": {},
     "output_type": "display_data"
    }
   ],
   "source": [
    "plt.figure(figsize=(12,8))\n",
    "sns.distplot(fc_bin,kde=True,bins=50,rug=True)\n",
    "plt.xlabel(\"F1 Score\",fontsize=12)\n",
    "plt.grid(True)\n",
    "plt.ylabel(\"Count of test records in 5K \",fontsize=12)\n",
    "plt.title('Plot F1 score for every 1000 most to 1000 least variant test records', fontsize=12)\n",
    "plt.show()\n",
    "plt.gcf().clear()\n",
    "plt.clf()\n",
    "plt.cla()\n",
    "plt.close()"
   ]
  },
  {
   "cell_type": "code",
   "execution_count": 533,
   "metadata": {
    "collapsed": true
   },
   "outputs": [],
   "source": [
    "def uncertain_predict(no_of_pred, no_of_sample, no_of_feature=1000):\n",
    "    l = [list(clf_sgd.predict(X_test[:no_of_sample]*\\\n",
    "                              np.random.binomial(1, 0.5, no_of_sample*no_of_feature).reshape((no_of_sample,no_of_feature)))\\\n",
    "              .astype(int)) for i in range(no_of_pred)]\n",
    "    return [Counter(i).most_common(1)[0][0] for i in np.array(l).T]\n",
    "\n",
    "def uncertain_predict_one(no_of_pred, sample_no, no_of_feature=1000):\n",
    "    X_test1 = X_test[sample_no].reshape(1,no_of_feature)\n",
    "    l = [list(clf_sgd.predict(X_test1*np.random.binomial(1, 0.5, no_of_feature).reshape((1,no_of_feature)))\\\n",
    "              .astype(int)) for i in range(no_of_pred)]\n",
    "    return Counter(list(np.array(l).T[0])).most_common(1)\n",
    "\n"
   ]
  },
  {
   "cell_type": "code",
   "execution_count": 541,
   "metadata": {},
   "outputs": [
    {
     "name": "stdout",
     "output_type": "stream",
     "text": [
      "0.421689056976513\n",
      "0.6096390444385337\n"
     ]
    }
   ],
   "source": [
    "#%%time\n",
    "\n",
    "no_of_sample = 10000\n",
    "no_of_pred = 100 \n",
    "res = np.array(uncertain_predict(no_of_pred=no_of_pred,no_of_sample=no_of_sample))\n",
    "print f1_score( y_test[:no_of_sample],res, average='weighted')      \n",
    "#print f1_score( clf_sgd.predict(X_test[:no_of_sample]),res, average='weighted')      \n",
    "print f1_score( y_test[:no_of_sample],clf_sgd.predict(X_test[:no_of_sample]), average='weighted')      \n",
    "\n"
   ]
  },
  {
   "cell_type": "code",
   "execution_count": 538,
   "metadata": {
    "collapsed": true
   },
   "outputs": [],
   "source": [
    "y_test_list = df_tec.subcat.values\n",
    "def uncertain_predict_temp(no_of_pred, no_of_sample, no_of_feature=100, threshold=50, dropout = 0.5):\n",
    "    result_dict={}\n",
    "    l = [list(clf_sgd.predict(X_test[:no_of_sample]*\\\n",
    "                              np.random.binomial(1, dropout, no_of_sample*no_of_feature).reshape((no_of_sample,no_of_feature)))\\\n",
    "              .astype(int)) for i in range(no_of_pred)]\n",
    "    l= np.array([list(Counter(i).most_common(1)[0])+ [cnt] + [y_test_list[cnt]] for cnt,i in enumerate(np.array(l).T)])\n",
    "    new_tensor_gt_threshold = l[np.where(l[:,1]>threshold)]\n",
    "    result_dict['coverage'] = float(new_tensor_gt_threshold.shape[0])/float(no_of_sample)\n",
    "    result_dict['accuracy_no_threshold'] = float((np.where(l[:,0]==l[:,3]))[0].shape[0])/float(no_of_sample)\n",
    "    result_dict['accuracy_after_threshold'] = float((np.where(new_tensor_gt_threshold[:,0]==new_tensor_gt_threshold[:,3]))[0].shape[0])\\\n",
    "    /float(new_tensor_gt_threshold.shape[0])\n",
    "    result_dict['accuracy'] = float((np.where(clf_sgd.predict(X_test[:no_of_sample])==l[:,3]))[0].shape[0])/float(no_of_sample)\n",
    "    \n",
    "    return result_dict\n",
    "    "
   ]
  },
  {
   "cell_type": "code",
   "execution_count": 539,
   "metadata": {},
   "outputs": [
    {
     "name": "stdout",
     "output_type": "stream",
     "text": [
      "{'accuracy_after_threshold': 0.6149732620320856, 'accuracy_no_threshold': 0.414, 'coverage': 0.4675, 'accuracy': 0.63}\n",
      "{'accuracy_after_threshold': 0.694468085106383, 'accuracy_no_threshold': 0.509, 'coverage': 0.5875, 'accuracy': 0.63}\n",
      "{'accuracy_after_threshold': 0.697724039829303, 'accuracy_no_threshold': 0.573, 'coverage': 0.703, 'accuracy': 0.63}\n",
      "{'accuracy_after_threshold': 0.678743961352657, 'accuracy_no_threshold': 0.6045, 'coverage': 0.828, 'accuracy': 0.63}\n",
      "{'accuracy_after_threshold': 0.6566200215285253, 'accuracy_no_threshold': 0.6215, 'coverage': 0.929, 'accuracy': 0.63}\n",
      "{'accuracy_after_threshold': 0.6374358974358975, 'accuracy_no_threshold': 0.627, 'coverage': 0.975, 'accuracy': 0.63}\n",
      "CPU times: user 15min 4s, sys: 26.9 s, total: 15min 31s\n",
      "Wall time: 33.5 s\n"
     ]
    }
   ],
   "source": [
    "%%time\n",
    "print uncertain_predict_temp(no_of_pred=100,no_of_sample=2000,threshold=50,dropout=0.5)\n",
    "print uncertain_predict_temp(no_of_pred=100,no_of_sample=2000,threshold=50,dropout=0.6)\n",
    "print uncertain_predict_temp(no_of_pred=100,no_of_sample=2000,threshold=50,dropout=0.7)\n",
    "print uncertain_predict_temp(no_of_pred=100,no_of_sample=2000,threshold=50,dropout=0.8)\n",
    "print uncertain_predict_temp(no_of_pred=100,no_of_sample=2000,threshold=50,dropout=0.9)\n",
    "print uncertain_predict_temp(no_of_pred=100,no_of_sample=2000,threshold=50,dropout=0.95)\n"
   ]
  },
  {
   "cell_type": "code",
   "execution_count": 490,
   "metadata": {},
   "outputs": [
    {
     "name": "stdout",
     "output_type": "stream",
     "text": [
      "{'accuracy_after_threshold': 1.0, 'coverage': 0.0175, 'accuracy': 0.755}\n",
      "CPU times: user 6min 44s, sys: 15 s, total: 6min 59s\n",
      "Wall time: 33.8 s\n"
     ]
    }
   ],
   "source": [
    "%%time\n",
    "print uncertain_predict_temp(no_of_pred=100,no_of_sample=2000,threshold=99)"
   ]
  },
  {
   "cell_type": "code",
   "execution_count": 476,
   "metadata": {},
   "outputs": [
    {
     "name": "stdout",
     "output_type": "stream",
     "text": [
      "(492, 4)\n",
      "(373,)\n",
      "492\n",
      "373\n",
      "1.0\n",
      "0.746\n"
     ]
    }
   ],
   "source": [
    "new_reslt = resl[np.where(resl[:,1]>10)]\n",
    "print new_reslt.shape\n",
    "print (np.where(new_reslt[:,0]==new_reslt[:,3]))[0].shape\n",
    "print (np.where(resl[:,1]>10))[0].shape[0]\n",
    "print (np.where(resl[:,0]==resl[:,3]))[0].shape[0]\n",
    "\n",
    "print float((np.where(resl[:,0]==resl[:,3]) and np.where(resl[:,1]>10))[0].shape[0])/float((np.where(resl[:,1]>10))[0].shape[0])\n",
    "\n",
    "print float((np.where(resl[:,0]==resl[:,3]))[0].shape[0])/float(resl.shape[0])\n",
    "\n",
    "#np.where((resl[:,0]==resl[:,3]))\n",
    "\n",
    "#np.where((resl[:,1]>50))"
   ]
  },
  {
   "cell_type": "code",
   "execution_count": 353,
   "metadata": {
    "collapsed": true
   },
   "outputs": [],
   "source": [
    "y_test_list = y_test.tolist()\n",
    "y_true = []\n",
    "y_pred = []\n",
    "for i in range(100):\n",
    "    pred = uncertain_predict_one(100,i)\n",
    "    if pred[0][1] > 90:\n",
    "        y_pred.append(pred[0][0])\n",
    "        y_true.append(y_test_list[i])"
   ]
  },
  {
   "cell_type": "code",
   "execution_count": 354,
   "metadata": {},
   "outputs": [
    {
     "name": "stdout",
     "output_type": "stream",
     "text": [
      "0.8333333333333334\n"
     ]
    }
   ],
   "source": [
    "print f1_score(np.array(y_true),np.array(y_pred), average='weighted')"
   ]
  },
  {
   "cell_type": "code",
   "execution_count": 1164,
   "metadata": {
    "ExecuteTime": {
     "end_time": "2018-12-11T16:51:30.767760Z",
     "start_time": "2018-12-11T16:51:30.765239Z"
    }
   },
   "outputs": [],
   "source": [
    "def f(x):\n",
    "    \"\"\"The function to predict.\"\"\"\n",
    "    return x * np.sin(x)"
   ]
  },
  {
   "cell_type": "code",
   "execution_count": 1166,
   "metadata": {
    "ExecuteTime": {
     "end_time": "2018-12-11T16:52:10.095100Z",
     "start_time": "2018-12-11T16:52:10.092790Z"
    }
   },
   "outputs": [],
   "source": [
    "X = np.atleast_2d([1., 3., 5., 6., 7., 8.]).T"
   ]
  },
  {
   "cell_type": "code",
   "execution_count": 1174,
   "metadata": {
    "ExecuteTime": {
     "end_time": "2018-12-11T16:53:05.314004Z",
     "start_time": "2018-12-11T16:53:05.311746Z"
    }
   },
   "outputs": [],
   "source": [
    "y = f(X).ravel()"
   ]
  },
  {
   "cell_type": "code",
   "execution_count": 1254,
   "metadata": {
    "ExecuteTime": {
     "end_time": "2018-12-12T15:06:35.770458Z",
     "start_time": "2018-12-12T15:06:35.629877Z"
    }
   },
   "outputs": [
    {
     "data": {
      "image/png": "[encoded data removed]",
      "text/plain": [
       "<matplotlib.figure.Figure at 0x2b8f57fd6750>"
      ]
     },
     "metadata": {},
     "output_type": "display_data"
    }
   ],
   "source": [
    "import numpy as np\n",
    "import matplotlib.pyplot as plt\n",
    "%matplotlib inline\n",
    "\n",
    "plt.style.use('ggplot')\n",
    "plt.rcParams['figure.figsize'] = (12, 8)\n",
    "\n",
    "# Normal distributed x and y vector with mean 0 and standard deviation 1\n",
    "x = np.random.normal(0, 1, 500)\n",
    "y = np.random.normal(0, 1, 500)\n",
    "X = np.vstack((x, y)).T\n",
    "\n",
    "plt.scatter(X[:, 0], X[:, 1])\n",
    "plt.title('Generated Data')\n",
    "plt.axis('equal');"
   ]
  },
  {
   "cell_type": "code",
   "execution_count": null,
   "metadata": {
    "ExecuteTime": {
     "end_time": "2018-12-11T19:50:52.769311Z",
     "start_time": "2018-12-11T19:50:52.761236Z"
    }
   },
   "outputs": [],
   "source": []
  },
  {
   "cell_type": "code",
   "execution_count": 1227,
   "metadata": {
    "ExecuteTime": {
     "end_time": "2018-12-11T20:10:16.632545Z",
     "start_time": "2018-12-11T20:10:16.627519Z"
    }
   },
   "outputs": [],
   "source": [
    "def cov(x, y):\n",
    "    xbar, ybar = x.mean(), y.mean()\n",
    "    \n",
    "    return np.sum((x - xbar)*(y - ybar))/(len(x) - 1)\n",
    "\n",
    "# Covariance matrix\n",
    "def cov_mat(X):\n",
    "    return np.array([[cov(X[0], X[0]), cov(X[0], X[1])], \\\n",
    "                     [cov(X[1], X[0]), cov(X[1], X[1])]])\n",
    "\n",
    "# Calculate covariance matrix \n",
    "#covr = cov_mat(X.T) # (or with np.cov(X.T))"
   ]
  },
  {
   "cell_type": "code",
   "execution_count": 1228,
   "metadata": {
    "ExecuteTime": {
     "end_time": "2018-12-11T20:10:20.054872Z",
     "start_time": "2018-12-11T20:10:19.938656Z"
    }
   },
   "outputs": [
    {
     "data": {
      "image/png": "[encoded data removed]",
      "text/plain": [
       "<matplotlib.figure.Figure at 0x2b8f5771a590>"
      ]
     },
     "metadata": {},
     "output_type": "display_data"
    }
   ],
   "source": [
    "\n",
    "covr = cov_mat(X.T)\n",
    "sx, sy = 0.7, 3.4\n",
    "covr = np.array([[sx, 0], [0, sy]])\n",
    "Xcap = np.dot(covr, X.T).T\n",
    "X= Xcap\n",
    "\n",
    "plt.scatter(Xcap[:, 0], Xcap[:, 1])\n",
    "plt.title('Generated Data')\n",
    "plt.axis('equal');"
   ]
  },
  {
   "cell_type": "code",
   "execution_count": 1190,
   "metadata": {
    "ExecuteTime": {
     "end_time": "2018-12-11T19:53:25.534548Z",
     "start_time": "2018-12-11T19:53:25.531149Z"
    }
   },
   "outputs": [
    {
     "data": {
      "text/plain": [
       "(500, 2)"
      ]
     },
     "execution_count": 1190,
     "metadata": {},
     "output_type": "execute_result"
    }
   ],
   "source": [
    "X.shape"
   ]
  },
  {
   "cell_type": "code",
   "execution_count": 1225,
   "metadata": {
    "ExecuteTime": {
     "end_time": "2018-12-11T19:59:00.609318Z",
     "start_time": "2018-12-11T19:59:00.605901Z"
    }
   },
   "outputs": [
    {
     "data": {
      "text/plain": [
       "array([[ 6.11146294e+16, -8.17479943e+15],\n",
       "       [-8.17479943e+15,  4.46540687e+15]])"
      ]
     },
     "execution_count": 1225,
     "metadata": {},
     "output_type": "execute_result"
    }
   ],
   "source": [
    "covr"
   ]
  },
  {
   "cell_type": "code",
   "execution_count": null,
   "metadata": {
    "collapsed": true
   },
   "outputs": [],
   "source": []
  }
 ],
 "metadata": {
  "kernelspec": {
   "display_name": "Python 2",
   "language": "python",
   "name": "python2"
  },
  "language_info": {
   "codemirror_mode": {
    "name": "ipython",
    "version": 2
   },
   "file_extension": ".py",
   "mimetype": "text/x-python",
   "name": "python",
   "nbconvert_exporter": "python",
   "pygments_lexer": "ipython2",
   "version": "2.7.14"
  }
 },
 "nbformat": 4,
 "nbformat_minor": 2
}
